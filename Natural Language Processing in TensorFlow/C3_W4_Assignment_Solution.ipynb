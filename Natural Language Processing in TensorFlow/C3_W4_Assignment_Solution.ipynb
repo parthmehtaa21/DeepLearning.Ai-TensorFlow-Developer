{
  "nbformat": 4,
  "nbformat_minor": 0,
  "metadata": {
    "accelerator": "GPU",
    "colab": {
      "name": "C3_W4_Assignment_Solution.ipynb",
      "provenance": [],
      "collapsed_sections": [],
      "toc_visible": true
    },
    "kernelspec": {
      "name": "python3",
      "display_name": "Python 3"
    },
    "language_info": {
      "name": "python"
    }
  },
  "cells": [
    {
      "cell_type": "code",
      "metadata": {
        "id": "zX4Kg8DUTKWO"
      },
      "source": [
        "#@title Licensed under the Apache License, Version 2.0 (the \"License\");\n",
        "# you may not use this file except in compliance with the License.\n",
        "# You may obtain a copy of the License at\n",
        "#\n",
        "# https://www.apache.org/licenses/LICENSE-2.0\n",
        "#\n",
        "# Unless required by applicable law or agreed to in writing, software\n",
        "# distributed under the License is distributed on an \"AS IS\" BASIS,\n",
        "# WITHOUT WARRANTIES OR CONDITIONS OF ANY KIND, either express or implied.\n",
        "# See the License for the specific language governing permissions and\n",
        "# limitations under the License."
      ],
      "execution_count": null,
      "outputs": []
    },
    {
      "cell_type": "markdown",
      "metadata": {
        "id": "NeQByOlMmtn8"
      },
      "source": [
        "**Note:** This notebook can run using TensorFlow 2.5.0"
      ]
    },
    {
      "cell_type": "code",
      "metadata": {
        "id": "QtWdoQT_mtn8"
      },
      "source": [
        "#!pip install tensorflow==2.5.0"
      ],
      "execution_count": null,
      "outputs": []
    },
    {
      "cell_type": "code",
      "metadata": {
        "id": "BOwsuGQQY9OL"
      },
      "source": [
        "from tensorflow.keras.preprocessing.sequence import pad_sequences\n",
        "from tensorflow.keras.layers import Embedding, LSTM, Dense, Dropout, Bidirectional\n",
        "from tensorflow.keras.preprocessing.text import Tokenizer\n",
        "from tensorflow.keras.models import Sequential\n",
        "from tensorflow.keras.optimizers import Adam\n",
        "from tensorflow.keras import regularizers\n",
        "import tensorflow.keras.utils as ku \n",
        "import numpy as np "
      ],
      "execution_count": 1,
      "outputs": []
    },
    {
      "cell_type": "code",
      "metadata": {
        "id": "PRnDnCW-Z7qv",
        "colab": {
          "base_uri": "https://localhost:8080/"
        },
        "outputId": "6bfdc653-d27e-4804-a4fe-fc09e39f5e63"
      },
      "source": [
        "tokenizer = Tokenizer()\n",
        "\n",
        "# sonnets.txt\n",
        "!gdown --id 108jAePKK4R3BVYBbYJZ32JWUwxeMg20K\n",
        "\n",
        "data = open('./sonnets.txt').read()\n",
        "\n",
        "corpus = data.lower().split(\"\\n\")\n",
        "\n",
        "\n",
        "tokenizer.fit_on_texts(corpus)\n",
        "total_words = len(tokenizer.word_index) + 1\n",
        "\n",
        "# create input sequences using list of tokens\n",
        "input_sequences = []\n",
        "for line in corpus:\n",
        "\ttoken_list = tokenizer.texts_to_sequences([line])[0]\n",
        "\tfor i in range(1, len(token_list)):\n",
        "\t\tn_gram_sequence = token_list[:i+1]\n",
        "\t\tinput_sequences.append(n_gram_sequence)\n",
        "\n",
        "\n",
        "# pad sequences \n",
        "max_sequence_len = max([len(x) for x in input_sequences])\n",
        "input_sequences = np.array(pad_sequences(input_sequences, maxlen=max_sequence_len, padding='pre'))\n",
        "\n",
        "# create predictors and label\n",
        "predictors, label = input_sequences[:,:-1],input_sequences[:,-1]\n",
        "\n",
        "label = ku.to_categorical(label, num_classes=total_words)"
      ],
      "execution_count": 2,
      "outputs": [
        {
          "output_type": "stream",
          "name": "stdout",
          "text": [
            "Downloading...\n",
            "From: https://drive.google.com/uc?id=108jAePKK4R3BVYBbYJZ32JWUwxeMg20K\n",
            "To: /content/sonnets.txt\n",
            "\r  0% 0.00/93.6k [00:00<?, ?B/s]\r100% 93.6k/93.6k [00:00<00:00, 77.2MB/s]\n"
          ]
        }
      ]
    },
    {
      "cell_type": "code",
      "metadata": {
        "id": "w9vH8Y59ajYL",
        "colab": {
          "base_uri": "https://localhost:8080/"
        },
        "outputId": "e7c0531b-4781-4cf2-daad-85836cab914b"
      },
      "source": [
        "### START CODE HERE\n",
        "model = Sequential()\n",
        "model.add(Embedding(total_words, 100, input_length=max_sequence_len-1))# Your Embedding Layer)\n",
        "model.add(Bidirectional(LSTM(150, return_sequences = True)))# An LSTM Layer)\n",
        "model.add(Dropout(0.2))# A dropout layer)\n",
        "model.add(LSTM(100))# Another LSTM Layer)\n",
        "model.add(Dense(total_words/2, activation='relu', kernel_regularizer=regularizers.l2(0.01)))# A Dense Layer including regularizers)\n",
        "model.add(Dense(total_words, activation='softmax'))# A Dense Layer)\n",
        "# Pick an optimizer\n",
        "model.compile(loss='categorical_crossentropy', optimizer='adam', metrics=['accuracy'])# Pick a loss function and an optimizer)\n",
        "### END CODE HERE\n",
        "\n",
        "print(model.summary())"
      ],
      "execution_count": 3,
      "outputs": [
        {
          "output_type": "stream",
          "name": "stdout",
          "text": [
            "Model: \"sequential\"\n",
            "_________________________________________________________________\n",
            " Layer (type)                Output Shape              Param #   \n",
            "=================================================================\n",
            " embedding (Embedding)       (None, 10, 100)           321100    \n",
            "                                                                 \n",
            " bidirectional (Bidirectiona  (None, 10, 300)          301200    \n",
            " l)                                                              \n",
            "                                                                 \n",
            " dropout (Dropout)           (None, 10, 300)           0         \n",
            "                                                                 \n",
            " lstm_1 (LSTM)               (None, 100)               160400    \n",
            "                                                                 \n",
            " dense (Dense)               (None, 1605)              162105    \n",
            "                                                                 \n",
            " dense_1 (Dense)             (None, 3211)              5156866   \n",
            "                                                                 \n",
            "=================================================================\n",
            "Total params: 6,101,671\n",
            "Trainable params: 6,101,671\n",
            "Non-trainable params: 0\n",
            "_________________________________________________________________\n",
            "None\n"
          ]
        }
      ]
    },
    {
      "cell_type": "code",
      "metadata": {
        "id": "AIg2f1HBxqof",
        "colab": {
          "base_uri": "https://localhost:8080/"
        },
        "outputId": "55eb240f-a8fc-469b-e840-6697c5e6a2e4"
      },
      "source": [
        " history = model.fit(predictors, label, epochs=100, verbose=1)"
      ],
      "execution_count": 4,
      "outputs": [
        {
          "output_type": "stream",
          "name": "stdout",
          "text": [
            "Epoch 1/100\n",
            "484/484 [==============================] - 25s 26ms/step - loss: 6.9020 - accuracy: 0.0207\n",
            "Epoch 2/100\n",
            "484/484 [==============================] - 12s 26ms/step - loss: 6.4998 - accuracy: 0.0225\n",
            "Epoch 3/100\n",
            "484/484 [==============================] - 13s 26ms/step - loss: 6.3831 - accuracy: 0.0276\n",
            "Epoch 4/100\n",
            "484/484 [==============================] - 13s 26ms/step - loss: 6.2628 - accuracy: 0.0316\n",
            "Epoch 5/100\n",
            "484/484 [==============================] - 12s 26ms/step - loss: 6.1742 - accuracy: 0.0362\n",
            "Epoch 6/100\n",
            "484/484 [==============================] - 13s 27ms/step - loss: 6.0959 - accuracy: 0.0389\n",
            "Epoch 7/100\n",
            "484/484 [==============================] - 12s 26ms/step - loss: 6.0195 - accuracy: 0.0395\n",
            "Epoch 8/100\n",
            "484/484 [==============================] - 12s 26ms/step - loss: 5.9347 - accuracy: 0.0427\n",
            "Epoch 9/100\n",
            "484/484 [==============================] - 12s 26ms/step - loss: 5.8367 - accuracy: 0.0483\n",
            "Epoch 10/100\n",
            "484/484 [==============================] - 12s 26ms/step - loss: 5.7356 - accuracy: 0.0548\n",
            "Epoch 11/100\n",
            "484/484 [==============================] - 13s 26ms/step - loss: 5.6228 - accuracy: 0.0609\n",
            "Epoch 12/100\n",
            "484/484 [==============================] - 13s 26ms/step - loss: 5.5202 - accuracy: 0.0704\n",
            "Epoch 13/100\n",
            "484/484 [==============================] - 13s 26ms/step - loss: 5.4030 - accuracy: 0.0766\n",
            "Epoch 14/100\n",
            "484/484 [==============================] - 13s 26ms/step - loss: 5.2967 - accuracy: 0.0853\n",
            "Epoch 15/100\n",
            "484/484 [==============================] - 13s 26ms/step - loss: 5.1879 - accuracy: 0.0921\n",
            "Epoch 16/100\n",
            "484/484 [==============================] - 13s 26ms/step - loss: 5.0790 - accuracy: 0.1004\n",
            "Epoch 17/100\n",
            "484/484 [==============================] - 13s 26ms/step - loss: 4.9774 - accuracy: 0.1085\n",
            "Epoch 18/100\n",
            "484/484 [==============================] - 12s 26ms/step - loss: 4.8772 - accuracy: 0.1171\n",
            "Epoch 19/100\n",
            "484/484 [==============================] - 12s 26ms/step - loss: 4.7730 - accuracy: 0.1268\n",
            "Epoch 20/100\n",
            "484/484 [==============================] - 13s 26ms/step - loss: 4.6684 - accuracy: 0.1371\n",
            "Epoch 21/100\n",
            "484/484 [==============================] - 13s 26ms/step - loss: 4.5751 - accuracy: 0.1434\n",
            "Epoch 22/100\n",
            "484/484 [==============================] - 12s 26ms/step - loss: 4.4675 - accuracy: 0.1559\n",
            "Epoch 23/100\n",
            "484/484 [==============================] - 12s 26ms/step - loss: 4.3662 - accuracy: 0.1666\n",
            "Epoch 24/100\n",
            "484/484 [==============================] - 13s 26ms/step - loss: 4.2677 - accuracy: 0.1773\n",
            "Epoch 25/100\n",
            "484/484 [==============================] - 13s 26ms/step - loss: 4.1654 - accuracy: 0.1903\n",
            "Epoch 26/100\n",
            "484/484 [==============================] - 13s 26ms/step - loss: 4.0590 - accuracy: 0.2040\n",
            "Epoch 27/100\n",
            "484/484 [==============================] - 12s 26ms/step - loss: 3.9646 - accuracy: 0.2160\n",
            "Epoch 28/100\n",
            "484/484 [==============================] - 12s 26ms/step - loss: 3.8679 - accuracy: 0.2381\n",
            "Epoch 29/100\n",
            "484/484 [==============================] - 12s 26ms/step - loss: 3.7657 - accuracy: 0.2504\n",
            "Epoch 30/100\n",
            "484/484 [==============================] - 13s 26ms/step - loss: 3.6758 - accuracy: 0.2648\n",
            "Epoch 31/100\n",
            "484/484 [==============================] - 13s 26ms/step - loss: 3.5782 - accuracy: 0.2899\n",
            "Epoch 32/100\n",
            "484/484 [==============================] - 12s 26ms/step - loss: 3.4889 - accuracy: 0.3064\n",
            "Epoch 33/100\n",
            "484/484 [==============================] - 12s 26ms/step - loss: 3.4139 - accuracy: 0.3206\n",
            "Epoch 34/100\n",
            "484/484 [==============================] - 13s 26ms/step - loss: 3.3157 - accuracy: 0.3419\n",
            "Epoch 35/100\n",
            "484/484 [==============================] - 13s 26ms/step - loss: 3.2263 - accuracy: 0.3659\n",
            "Epoch 36/100\n",
            "484/484 [==============================] - 13s 26ms/step - loss: 3.1555 - accuracy: 0.3788\n",
            "Epoch 37/100\n",
            "484/484 [==============================] - 13s 26ms/step - loss: 3.0853 - accuracy: 0.3942\n",
            "Epoch 38/100\n",
            "484/484 [==============================] - 12s 26ms/step - loss: 3.0077 - accuracy: 0.4131\n",
            "Epoch 39/100\n",
            "484/484 [==============================] - 12s 26ms/step - loss: 2.9268 - accuracy: 0.4289\n",
            "Epoch 40/100\n",
            "484/484 [==============================] - 13s 26ms/step - loss: 2.8503 - accuracy: 0.4505\n",
            "Epoch 41/100\n",
            "484/484 [==============================] - 13s 26ms/step - loss: 2.7799 - accuracy: 0.4659\n",
            "Epoch 42/100\n",
            "484/484 [==============================] - 13s 26ms/step - loss: 2.7270 - accuracy: 0.4797\n",
            "Epoch 43/100\n",
            "484/484 [==============================] - 12s 26ms/step - loss: 2.6698 - accuracy: 0.4860\n",
            "Epoch 44/100\n",
            "484/484 [==============================] - 12s 26ms/step - loss: 2.5972 - accuracy: 0.5043\n",
            "Epoch 45/100\n",
            "484/484 [==============================] - 13s 26ms/step - loss: 2.5537 - accuracy: 0.5158\n",
            "Epoch 46/100\n",
            "484/484 [==============================] - 13s 26ms/step - loss: 2.4987 - accuracy: 0.5250\n",
            "Epoch 47/100\n",
            "484/484 [==============================] - 12s 26ms/step - loss: 2.4301 - accuracy: 0.5442\n",
            "Epoch 48/100\n",
            "484/484 [==============================] - 13s 26ms/step - loss: 2.3867 - accuracy: 0.5553\n",
            "Epoch 49/100\n",
            "484/484 [==============================] - 13s 26ms/step - loss: 2.3528 - accuracy: 0.5554\n",
            "Epoch 50/100\n",
            "484/484 [==============================] - 13s 26ms/step - loss: 2.3013 - accuracy: 0.5693\n",
            "Epoch 51/100\n",
            "484/484 [==============================] - 12s 26ms/step - loss: 2.2411 - accuracy: 0.5843\n",
            "Epoch 52/100\n",
            "484/484 [==============================] - 12s 25ms/step - loss: 2.1981 - accuracy: 0.5973\n",
            "Epoch 53/100\n",
            "484/484 [==============================] - 12s 25ms/step - loss: 2.1544 - accuracy: 0.6046\n",
            "Epoch 54/100\n",
            "484/484 [==============================] - 12s 25ms/step - loss: 2.1166 - accuracy: 0.6102\n",
            "Epoch 55/100\n",
            "484/484 [==============================] - 12s 25ms/step - loss: 2.0779 - accuracy: 0.6189\n",
            "Epoch 56/100\n",
            "484/484 [==============================] - 12s 25ms/step - loss: 2.0537 - accuracy: 0.6246\n",
            "Epoch 57/100\n",
            "484/484 [==============================] - 12s 25ms/step - loss: 2.0122 - accuracy: 0.6326\n",
            "Epoch 58/100\n",
            "484/484 [==============================] - 12s 25ms/step - loss: 1.9567 - accuracy: 0.6472\n",
            "Epoch 59/100\n",
            "484/484 [==============================] - 12s 25ms/step - loss: 1.9345 - accuracy: 0.6541\n",
            "Epoch 60/100\n",
            "484/484 [==============================] - 12s 25ms/step - loss: 1.8945 - accuracy: 0.6627\n",
            "Epoch 61/100\n",
            "484/484 [==============================] - 12s 25ms/step - loss: 1.8663 - accuracy: 0.6669\n",
            "Epoch 62/100\n",
            "484/484 [==============================] - 12s 26ms/step - loss: 1.8284 - accuracy: 0.6744\n",
            "Epoch 63/100\n",
            "484/484 [==============================] - 12s 25ms/step - loss: 1.7981 - accuracy: 0.6811\n",
            "Epoch 64/100\n",
            "484/484 [==============================] - 12s 25ms/step - loss: 1.7770 - accuracy: 0.6847\n",
            "Epoch 65/100\n",
            "484/484 [==============================] - 12s 25ms/step - loss: 1.7482 - accuracy: 0.6905\n",
            "Epoch 66/100\n",
            "484/484 [==============================] - 12s 25ms/step - loss: 1.7125 - accuracy: 0.6973\n",
            "Epoch 67/100\n",
            "484/484 [==============================] - 12s 25ms/step - loss: 1.6869 - accuracy: 0.7035\n",
            "Epoch 68/100\n",
            "484/484 [==============================] - 12s 25ms/step - loss: 1.6642 - accuracy: 0.7082\n",
            "Epoch 69/100\n",
            "484/484 [==============================] - 12s 25ms/step - loss: 1.6451 - accuracy: 0.7086\n",
            "Epoch 70/100\n",
            "484/484 [==============================] - 12s 25ms/step - loss: 1.6111 - accuracy: 0.7193\n",
            "Epoch 71/100\n",
            "484/484 [==============================] - 12s 25ms/step - loss: 1.5981 - accuracy: 0.7182\n",
            "Epoch 72/100\n",
            "484/484 [==============================] - 12s 25ms/step - loss: 1.5853 - accuracy: 0.7224\n",
            "Epoch 73/100\n",
            "484/484 [==============================] - 12s 25ms/step - loss: 1.5552 - accuracy: 0.7299\n",
            "Epoch 74/100\n",
            "484/484 [==============================] - 12s 26ms/step - loss: 1.5260 - accuracy: 0.7365\n",
            "Epoch 75/100\n",
            "484/484 [==============================] - 12s 25ms/step - loss: 1.5141 - accuracy: 0.7354\n",
            "Epoch 76/100\n",
            "484/484 [==============================] - 12s 25ms/step - loss: 1.4857 - accuracy: 0.7419\n",
            "Epoch 77/100\n",
            "484/484 [==============================] - 12s 25ms/step - loss: 1.4657 - accuracy: 0.7462\n",
            "Epoch 78/100\n",
            "484/484 [==============================] - 12s 25ms/step - loss: 1.4433 - accuracy: 0.7503\n",
            "Epoch 79/100\n",
            "484/484 [==============================] - 12s 25ms/step - loss: 1.4295 - accuracy: 0.7511\n",
            "Epoch 80/100\n",
            "484/484 [==============================] - 12s 25ms/step - loss: 1.4161 - accuracy: 0.7539\n",
            "Epoch 81/100\n",
            "484/484 [==============================] - 12s 25ms/step - loss: 1.4073 - accuracy: 0.7577\n",
            "Epoch 82/100\n",
            "484/484 [==============================] - 12s 25ms/step - loss: 1.3828 - accuracy: 0.7610\n",
            "Epoch 83/100\n",
            "484/484 [==============================] - 12s 25ms/step - loss: 1.3622 - accuracy: 0.7679\n",
            "Epoch 84/100\n",
            "484/484 [==============================] - 12s 25ms/step - loss: 1.3358 - accuracy: 0.7711\n",
            "Epoch 85/100\n",
            "484/484 [==============================] - 12s 25ms/step - loss: 1.3339 - accuracy: 0.7726\n",
            "Epoch 86/100\n",
            "484/484 [==============================] - 12s 25ms/step - loss: 1.3217 - accuracy: 0.7712\n",
            "Epoch 87/100\n",
            "484/484 [==============================] - 12s 25ms/step - loss: 1.3074 - accuracy: 0.7745\n",
            "Epoch 88/100\n",
            "484/484 [==============================] - 12s 25ms/step - loss: 1.2908 - accuracy: 0.7767\n",
            "Epoch 89/100\n",
            "484/484 [==============================] - 12s 25ms/step - loss: 1.2887 - accuracy: 0.7789\n",
            "Epoch 90/100\n",
            "484/484 [==============================] - 12s 25ms/step - loss: 1.2637 - accuracy: 0.7809\n",
            "Epoch 91/100\n",
            "484/484 [==============================] - 12s 25ms/step - loss: 1.2609 - accuracy: 0.7819\n",
            "Epoch 92/100\n",
            "484/484 [==============================] - 12s 25ms/step - loss: 1.2312 - accuracy: 0.7875\n",
            "Epoch 93/100\n",
            "484/484 [==============================] - 12s 25ms/step - loss: 1.2223 - accuracy: 0.7886\n",
            "Epoch 94/100\n",
            "484/484 [==============================] - 12s 26ms/step - loss: 1.2122 - accuracy: 0.7889\n",
            "Epoch 95/100\n",
            "484/484 [==============================] - 12s 26ms/step - loss: 1.1988 - accuracy: 0.7925\n",
            "Epoch 96/100\n",
            "484/484 [==============================] - 12s 25ms/step - loss: 1.2082 - accuracy: 0.7922\n",
            "Epoch 97/100\n",
            "484/484 [==============================] - 12s 26ms/step - loss: 1.1920 - accuracy: 0.7952\n",
            "Epoch 98/100\n",
            "484/484 [==============================] - 13s 26ms/step - loss: 1.1795 - accuracy: 0.7930\n",
            "Epoch 99/100\n",
            "484/484 [==============================] - 13s 26ms/step - loss: 1.1761 - accuracy: 0.7925\n",
            "Epoch 100/100\n",
            "484/484 [==============================] - 12s 26ms/step - loss: 1.1582 - accuracy: 0.8014\n"
          ]
        }
      ]
    },
    {
      "cell_type": "code",
      "metadata": {
        "id": "1fXTEO3GJ282",
        "colab": {
          "base_uri": "https://localhost:8080/",
          "height": 545
        },
        "outputId": "bc77b147-9c71-4a42-b6b0-37d14ff3302b"
      },
      "source": [
        "import matplotlib.pyplot as plt\n",
        "acc = history.history['accuracy']\n",
        "loss = history.history['loss']\n",
        "\n",
        "epochs = range(len(acc))\n",
        "\n",
        "plt.plot(epochs, acc, 'b', label='Training accuracy')\n",
        "plt.title('Training accuracy')\n",
        "\n",
        "plt.figure()\n",
        "\n",
        "plt.plot(epochs, loss, 'b', label='Training Loss')\n",
        "plt.title('Training loss')\n",
        "plt.legend()\n",
        "\n",
        "plt.show()"
      ],
      "execution_count": 5,
      "outputs": [
        {
          "output_type": "display_data",
          "data": {
            "image/png": "[encoded data removed]",
            "text/plain": [
              "<Figure size 432x288 with 1 Axes>"
            ]
          },
          "metadata": {
            "needs_background": "light"
          }
        },
        {
          "output_type": "display_data",
          "data": {
            "image/png": "[encoded data removed]",
            "text/plain": [
              "<Figure size 432x288 with 1 Axes>"
            ]
          },
          "metadata": {
            "needs_background": "light"
          }
        }
      ]
    },
    {
      "cell_type": "code",
      "metadata": {
        "id": "6Vc6PHgxa6Hm",
        "colab": {
          "base_uri": "https://localhost:8080/"
        },
        "outputId": "6fe430d4-4ab0-45dc-ed87-6e58eae73856"
      },
      "source": [
        "seed_text = \"Help me Obi Wan Kenobi, you're my only hope\"\n",
        "next_words = 100\n",
        "  \n",
        "for _ in range(next_words):\n",
        "\ttoken_list = tokenizer.texts_to_sequences([seed_text])[0]\n",
        "\ttoken_list = pad_sequences([token_list], maxlen=max_sequence_len-1, padding='pre')\n",
        "\tindex = np.argmax(model.predict(token_list, verbose=0))\n",
        "\toutput_word = tokenizer.index_word[index]\n",
        "\tseed_text += \" \" + output_word\n",
        "print(seed_text)"
      ],
      "execution_count": 6,
      "outputs": [
        {
          "output_type": "stream",
          "name": "stdout",
          "text": [
            "Help me Obi Wan Kenobi, you're my only hope desire make thee be show thee thee thee so more bright must be hell doth stand shown desire prove thee new poets die to lie to ride come new ' make thee so be thought bright dwell did take thee so ill hell doth shown shown one old skill part to mind 'tis shown shown shown twain spent hate alone forth so true eyes ne'er give thee done show thee so be bright shame must thee bear thine eyes slain dwell did dwell did mercy did haste me to write die pleasure thee do truly me die dear dwell '\n"
          ]
        }
      ]
    },
    {
      "cell_type": "code",
      "source": [
        ""
      ],
      "metadata": {
        "id": "6da59eAL-oZd"
      },
      "execution_count": null,
      "outputs": []
    }
  ]
}