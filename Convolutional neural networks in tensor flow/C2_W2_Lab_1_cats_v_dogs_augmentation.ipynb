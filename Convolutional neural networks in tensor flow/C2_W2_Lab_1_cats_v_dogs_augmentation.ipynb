{
 "cells": [
  {
   "cell_type": "markdown",
   "metadata": {
    "id": "TtQrU5kz5fxE"
   },
   "source": [
    "<a href=\"https://colab.research.google.com/github/https-deeplearning-ai/tensorflow-1-public/blob/master/C2/W2/ungraded_labs/C2_W2_Lab_1_cats_v_dogs_augmentation.ipynb\" target=\"_parent\"><img src=\"https://colab.research.google.com/assets/colab-badge.svg\" alt=\"Open In Colab\"/></a>"
   ]
  },
  {
   "cell_type": "markdown",
   "metadata": {
    "id": "gGxCD4mGHHjG"
   },
   "source": [
    "# Ungraded Lab: Data Augmentation\n",
    "\n",
    "In the previous lessons, you saw that having a high training accuracy does not automatically mean having a good predictive model. It can still perform poorly on new data because it has overfit to the training set. In this lab, you will see how to avoid that using _data augmentation_. This increases the amount of training data by modifying the existing training data's properties. For example, in image data, you can apply different preprocessing techniques such as rotate, flip, shear, or zoom on your existing images so you can simulate other data that the model should also learn from. This way, the model would see more variety in the images during training so it will infer better on new, previously unseen data.\n",
    "\n",
    "Let's see how you can do this in the following sections."
   ]
  },
  {
   "cell_type": "markdown",
   "metadata": {
    "id": "kJJqX4DxcQs8"
   },
   "source": [
    "## Baseline Performance\n",
    "\n",
    "You will start with a model that's very effective at learning `Cats vs Dogs` without data augmentation. It's similar to the previous models that you have used. Note that there are four convolutional layers with 32, 64, 128 and 128 convolutions respectively. The code is basically the same from the previous lab so we won't go over the details step by step since you've already seen it before.\n",
    "\n",
    "You will train only for 20 epochs to save time but feel free to increase this if you want."
   ]
  },
  {
   "cell_type": "code",
   "execution_count": 1,
   "metadata": {
    "colab": {
     "base_uri": "https://localhost:8080/"
    },
    "id": "zJZIF29-dIRv",
    "outputId": "1f81b02c-59f6-47b6-d92b-a22b60d1ed1d"
   },
   "outputs": [
    {
     "name": "stdout",
     "output_type": "stream",
     "text": [
      "Downloading...\n",
      "From: https://drive.google.com/uc?id=1RL0T7Rg4XqQNRCkjfnLo4goOJQ7XZro9\n",
      "To: /content/cats_and_dogs_filtered.zip\n",
      "100% 68.6M/68.6M [00:00<00:00, 310MB/s]\n"
     ]
    }
   ],
   "source": [
    "# Download the dataset\n",
    "!gdown --id 1RL0T7Rg4XqQNRCkjfnLo4goOJQ7XZro9"
   ]
  },
  {
   "cell_type": "code",
   "execution_count": 2,
   "metadata": {
    "id": "_DyUfCTgdwa8"
   },
   "outputs": [],
   "source": [
    "import os\n",
    "import zipfile\n",
    "\n",
    "# Extract the archive\n",
    "zip_ref = zipfile.ZipFile(\"./cats_and_dogs_filtered.zip\", 'r')\n",
    "zip_ref.extractall(\"tmp/\")\n",
    "zip_ref.close()\n",
    "\n",
    "# Assign training and validation set directories\n",
    "base_dir = 'tmp/cats_and_dogs_filtered'\n",
    "train_dir = os.path.join(base_dir, 'train')\n",
    "validation_dir = os.path.join(base_dir, 'validation')\n",
    "\n",
    "# Directory with training cat pictures\n",
    "train_cats_dir = os.path.join(train_dir, 'cats')\n",
    "\n",
    "# Directory with training dog pictures\n",
    "train_dogs_dir = os.path.join(train_dir, 'dogs')\n",
    "\n",
    "# Directory with validation cat pictures\n",
    "validation_cats_dir = os.path.join(validation_dir, 'cats')\n",
    "\n",
    "# Directory with validation dog pictures\n",
    "validation_dogs_dir = os.path.join(validation_dir, 'dogs')"
   ]
  },
  {
   "cell_type": "markdown",
   "metadata": {
    "id": "Ub_BdOJIfZ_Q"
   },
   "source": [
    "You will place the model creation inside a function so you can easily initialize a new one when you use data augmentation later in this notebook."
   ]
  },
  {
   "cell_type": "code",
   "execution_count": 3,
   "metadata": {
    "id": "uWllK_Wad-Mx"
   },
   "outputs": [],
   "source": [
    "import tensorflow as tf\n",
    "from tensorflow.keras.optimizers import RMSprop\n",
    "\n",
    "def create_model():\n",
    "  '''Creates a CNN with 4 convolutional layers'''\n",
    "  model = tf.keras.models.Sequential([\n",
    "      tf.keras.layers.Conv2D(32, (3,3), activation='relu', input_shape=(150, 150, 3)),\n",
    "      tf.keras.layers.MaxPooling2D(2, 2),\n",
    "      tf.keras.layers.Conv2D(64, (3,3), activation='relu'),\n",
    "      tf.keras.layers.MaxPooling2D(2,2),\n",
    "      tf.keras.layers.Conv2D(128, (3,3), activation='relu'),\n",
    "      tf.keras.layers.MaxPooling2D(2,2),\n",
    "      tf.keras.layers.Conv2D(128, (3,3), activation='relu'),\n",
    "      tf.keras.layers.MaxPooling2D(2,2),\n",
    "      tf.keras.layers.Flatten(),\n",
    "      tf.keras.layers.Dense(512, activation='relu'),\n",
    "      tf.keras.layers.Dense(1, activation='sigmoid')\n",
    "  ])\n",
    "\n",
    "  model.compile(loss='binary_crossentropy',\n",
    "                optimizer=RMSprop(learning_rate=1e-4),\n",
    "                metrics=['accuracy'])\n",
    "  \n",
    "  return model"
   ]
  },
  {
   "cell_type": "code",
   "execution_count": 4,
   "metadata": {
    "colab": {
     "base_uri": "https://localhost:8080/"
    },
    "id": "MJPyDEzOqrKB",
    "outputId": "70980d7e-2982-4ada-d5e6-bcabc928670e"
   },
   "outputs": [
    {
     "name": "stdout",
     "output_type": "stream",
     "text": [
      "Found 2000 images belonging to 2 classes.\n",
      "Found 1000 images belonging to 2 classes.\n"
     ]
    }
   ],
   "source": [
    "from tensorflow.keras.preprocessing.image import ImageDataGenerator\n",
    "\n",
    "# All images will be rescaled by 1./255\n",
    "train_datagen = ImageDataGenerator(rescale=1./255)\n",
    "test_datagen = ImageDataGenerator(rescale=1./255)\n",
    "\n",
    "# Flow training images in batches of 20 using train_datagen generator\n",
    "train_generator = train_datagen.flow_from_directory(\n",
    "        train_dir,  # This is the source directory for training images\n",
    "        target_size=(150, 150),  # All images will be resized to 150x150\n",
    "        batch_size=20,\n",
    "        # Since we use binary_crossentropy loss, we need binary labels\n",
    "        class_mode='binary')\n",
    "\n",
    "# Flow validation images in batches of 20 using test_datagen generator\n",
    "validation_generator = test_datagen.flow_from_directory(\n",
    "        validation_dir,\n",
    "        target_size=(150, 150),\n",
    "        batch_size=20,\n",
    "        class_mode='binary')"
   ]
  },
  {
   "cell_type": "code",
   "execution_count": 5,
   "metadata": {
    "colab": {
     "base_uri": "https://localhost:8080/"
    },
    "id": "hdqUoF44esR3",
    "outputId": "08378e99-960d-46e7-a7ba-e4884a350796"
   },
   "outputs": [
    {
     "name": "stdout",
     "output_type": "stream",
     "text": [
      "Epoch 1/20\n",
      "100/100 - 21s - loss: 0.6862 - accuracy: 0.5390 - val_loss: 0.6638 - val_accuracy: 0.6360 - 21s/epoch - 208ms/step\n",
      "Epoch 2/20\n",
      "100/100 - 8s - loss: 0.6529 - accuracy: 0.6285 - val_loss: 0.6412 - val_accuracy: 0.6400 - 8s/epoch - 81ms/step\n",
      "Epoch 3/20\n",
      "100/100 - 8s - loss: 0.6153 - accuracy: 0.6685 - val_loss: 0.6165 - val_accuracy: 0.6790 - 8s/epoch - 81ms/step\n",
      "Epoch 4/20\n",
      "100/100 - 8s - loss: 0.5688 - accuracy: 0.7080 - val_loss: 0.5884 - val_accuracy: 0.6920 - 8s/epoch - 80ms/step\n",
      "Epoch 5/20\n",
      "100/100 - 8s - loss: 0.5345 - accuracy: 0.7305 - val_loss: 0.5790 - val_accuracy: 0.6920 - 8s/epoch - 81ms/step\n",
      "Epoch 6/20\n",
      "100/100 - 8s - loss: 0.5063 - accuracy: 0.7465 - val_loss: 0.5801 - val_accuracy: 0.6930 - 8s/epoch - 85ms/step\n",
      "Epoch 7/20\n",
      "100/100 - 8s - loss: 0.4812 - accuracy: 0.7660 - val_loss: 0.5556 - val_accuracy: 0.7200 - 8s/epoch - 85ms/step\n",
      "Epoch 8/20\n",
      "100/100 - 8s - loss: 0.4610 - accuracy: 0.7850 - val_loss: 0.6187 - val_accuracy: 0.6810 - 8s/epoch - 81ms/step\n",
      "Epoch 9/20\n",
      "100/100 - 8s - loss: 0.4318 - accuracy: 0.7930 - val_loss: 0.5241 - val_accuracy: 0.7440 - 8s/epoch - 82ms/step\n",
      "Epoch 10/20\n",
      "100/100 - 8s - loss: 0.4055 - accuracy: 0.8205 - val_loss: 0.5449 - val_accuracy: 0.7370 - 8s/epoch - 82ms/step\n",
      "Epoch 11/20\n",
      "100/100 - 8s - loss: 0.3766 - accuracy: 0.8265 - val_loss: 0.5288 - val_accuracy: 0.7470 - 8s/epoch - 82ms/step\n",
      "Epoch 12/20\n",
      "100/100 - 8s - loss: 0.3541 - accuracy: 0.8485 - val_loss: 0.5501 - val_accuracy: 0.7390 - 8s/epoch - 82ms/step\n",
      "Epoch 13/20\n",
      "100/100 - 8s - loss: 0.3334 - accuracy: 0.8565 - val_loss: 0.5370 - val_accuracy: 0.7460 - 8s/epoch - 82ms/step\n",
      "Epoch 14/20\n",
      "100/100 - 8s - loss: 0.3078 - accuracy: 0.8755 - val_loss: 0.5469 - val_accuracy: 0.7480 - 8s/epoch - 81ms/step\n",
      "Epoch 15/20\n",
      "100/100 - 8s - loss: 0.2829 - accuracy: 0.8865 - val_loss: 0.5410 - val_accuracy: 0.7410 - 8s/epoch - 82ms/step\n",
      "Epoch 16/20\n",
      "100/100 - 8s - loss: 0.2609 - accuracy: 0.8975 - val_loss: 0.6483 - val_accuracy: 0.7300 - 8s/epoch - 81ms/step\n",
      "Epoch 17/20\n",
      "100/100 - 8s - loss: 0.2473 - accuracy: 0.9115 - val_loss: 0.6548 - val_accuracy: 0.7190 - 8s/epoch - 82ms/step\n",
      "Epoch 18/20\n",
      "100/100 - 8s - loss: 0.2157 - accuracy: 0.9175 - val_loss: 0.5644 - val_accuracy: 0.7570 - 8s/epoch - 81ms/step\n",
      "Epoch 19/20\n",
      "100/100 - 8s - loss: 0.1961 - accuracy: 0.9230 - val_loss: 0.6660 - val_accuracy: 0.7310 - 8s/epoch - 82ms/step\n",
      "Epoch 20/20\n",
      "100/100 - 8s - loss: 0.1754 - accuracy: 0.9370 - val_loss: 0.5901 - val_accuracy: 0.7590 - 8s/epoch - 80ms/step\n"
     ]
    }
   ],
   "source": [
    "# Constant for epochs\n",
    "EPOCHS = 20\n",
    "\n",
    "# Create a new model\n",
    "model = create_model()\n",
    "\n",
    "# Train the model\n",
    "history = model.fit(\n",
    "      train_generator,\n",
    "      steps_per_epoch=100,  # 2000 images = batch_size * steps\n",
    "      epochs=EPOCHS,\n",
    "      validation_data=validation_generator,\n",
    "      validation_steps=50,  # 1000 images = batch_size * steps\n",
    "      verbose=2)"
   ]
  },
  {
   "cell_type": "markdown",
   "metadata": {
    "id": "Y-G0Am4cguNt"
   },
   "source": [
    "You will then visualize the loss and accuracy with respect to the training and validation set. You will again use a convenience function so it can be reused later. This function accepts a [History](https://www.tensorflow.org/api_docs/python/tf/keras/callbacks/History) object which contains the results of the `fit()` method you ran above."
   ]
  },
  {
   "cell_type": "code",
   "execution_count": 6,
   "metadata": {
    "id": "GZWPcmKWO303"
   },
   "outputs": [],
   "source": [
    "import matplotlib.pyplot as plt\n",
    "\n",
    "def plot_loss_acc(history):\n",
    "  '''Plots the training and validation loss and accuracy from a history object'''\n",
    "  acc = history.history['accuracy']\n",
    "  val_acc = history.history['val_accuracy']\n",
    "  loss = history.history['loss']\n",
    "  val_loss = history.history['val_loss']\n",
    "\n",
    "  epochs = range(len(acc))\n",
    "\n",
    "  plt.plot(epochs, acc, 'bo', label='Training accuracy')\n",
    "  plt.plot(epochs, val_acc, 'b', label='Validation accuracy')\n",
    "  plt.title('Training and validation accuracy')\n",
    "\n",
    "  plt.figure()\n",
    "\n",
    "  plt.plot(epochs, loss, 'bo', label='Training Loss')\n",
    "  plt.plot(epochs, val_loss, 'b', label='Validation Loss')\n",
    "  plt.title('Training and validation loss')\n",
    "  plt.legend()\n",
    "\n",
    "  plt.show()"
   ]
  },
  {
   "cell_type": "code",
   "execution_count": 7,
   "metadata": {
    "colab": {
     "base_uri": "https://localhost:8080/",
     "height": 545
    },
    "id": "Vojz4NYXiT_f",
    "outputId": "ff4c44a1-e6fe-40f0-c2f8-f3a0a9304dd7"
   },
   "outputs": [
    {
     "data": {
      "image/png": "[encoded data removed]",
      "text/plain": [
       "<Figure size 432x288 with 1 Axes>"
      ]
     },
     "metadata": {
      "needs_background": "light"
     },
     "output_type": "display_data"
    },
    {
     "data": {
      "image/png": "[encoded data removed]",
      "text/plain": [
       "<Figure size 432x288 with 1 Axes>"
      ]
     },
     "metadata": {
      "needs_background": "light"
     },
     "output_type": "display_data"
    }
   ],
   "source": [
    "# Plot training results\n",
    "plot_loss_acc(history)"
   ]
  },
  {
   "cell_type": "markdown",
   "metadata": {
    "id": "zb81GvNov-Tg"
   },
   "source": [
    "From the results above, you'll see the training accuracy is more than 90%, and the validation accuracy is in the 70%-80% range. This is a great example of _overfitting_ -- which in short means that it can do very well with images it has seen before, but not so well with images it hasn't.\n"
   ]
  },
  {
   "cell_type": "markdown",
   "metadata": {
    "id": "5KBz-vFbjLZX"
   },
   "source": [
    "## Data augmentation\n",
    "\n",
    "One simple method to avoid overfitting is to augment the images a bit. If you think about it, most pictures of a cat are very similar -- the ears are at the top, then the eyes, then the mouth etc. Things like the distance between the eyes and ears will always be quite similar too. \n",
    "\n",
    "What if you tweak with the images a bit -- rotate the image, squash it, etc.  That's what image augementation is all about. And there's an API that makes it easy!\n",
    "\n",
    "Take a look at the [ImageDataGenerator](https://www.tensorflow.org/api_docs/python/tf/keras/preprocessing/image/ImageDataGenerator) which you have been using to rescale the image. There are other properties on it that you can use to augment the image. \n",
    "\n",
    "```\n",
    "# Updated to do image augmentation\n",
    "train_datagen = ImageDataGenerator(\n",
    "      rotation_range=40,\n",
    "      width_shift_range=0.2,\n",
    "      height_shift_range=0.2,\n",
    "      shear_range=0.2,\n",
    "      zoom_range=0.2,\n",
    "      horizontal_flip=True,\n",
    "      fill_mode='nearest')\n",
    "```\n",
    "\n",
    "These are just a few of the options available. Let's quickly go over it:\n",
    "\n",
    "* `rotation_range` is a value in degrees (0–180) within which to randomly rotate pictures.\n",
    "* `width_shift` and `height_shift` are ranges (as a fraction of total width or height) within which to randomly translate pictures vertically or horizontally.\n",
    "* `shear_range` is for randomly applying shearing transformations.\n",
    "* `zoom_range` is for randomly zooming inside pictures.\n",
    "* `horizontal_flip` is for randomly flipping half of the images horizontally. This is relevant when there are no assumptions of horizontal assymmetry (e.g. real-world pictures).\n",
    "* `fill_mode` is the strategy used for filling in newly created pixels, which can appear after a rotation or a width/height shift.\n",
    "\n",
    "\n",
    "Run the next cells to see the impact on the results. The code is similar to the baseline but the definition of `train_datagen` has been updated to use the parameters described above.\n"
   ]
  },
  {
   "cell_type": "code",
   "execution_count": 8,
   "metadata": {
    "colab": {
     "base_uri": "https://localhost:8080/"
    },
    "id": "UK7_Fflgv8YC",
    "outputId": "e3a7917b-71e1-401a-d4b9-dfe9f28ba263"
   },
   "outputs": [
    {
     "name": "stdout",
     "output_type": "stream",
     "text": [
      "Found 2000 images belonging to 2 classes.\n",
      "Found 1000 images belonging to 2 classes.\n",
      "Epoch 1/20\n",
      "100/100 - 23s - loss: 0.6932 - accuracy: 0.5255 - val_loss: 0.6894 - val_accuracy: 0.5000 - 23s/epoch - 226ms/step\n",
      "Epoch 2/20\n",
      "100/100 - 16s - loss: 0.6861 - accuracy: 0.5575 - val_loss: 0.6739 - val_accuracy: 0.5870 - 16s/epoch - 162ms/step\n",
      "Epoch 3/20\n",
      "100/100 - 16s - loss: 0.6747 - accuracy: 0.5710 - val_loss: 0.6478 - val_accuracy: 0.6160 - 16s/epoch - 161ms/step\n",
      "Epoch 4/20\n",
      "100/100 - 16s - loss: 0.6522 - accuracy: 0.6155 - val_loss: 0.6394 - val_accuracy: 0.6110 - 16s/epoch - 161ms/step\n",
      "Epoch 5/20\n",
      "100/100 - 17s - loss: 0.6423 - accuracy: 0.6375 - val_loss: 0.5980 - val_accuracy: 0.6820 - 17s/epoch - 170ms/step\n",
      "Epoch 6/20\n",
      "100/100 - 16s - loss: 0.6256 - accuracy: 0.6480 - val_loss: 0.5870 - val_accuracy: 0.6720 - 16s/epoch - 161ms/step\n",
      "Epoch 7/20\n",
      "100/100 - 16s - loss: 0.6142 - accuracy: 0.6645 - val_loss: 0.5563 - val_accuracy: 0.7120 - 16s/epoch - 162ms/step\n",
      "Epoch 8/20\n",
      "100/100 - 16s - loss: 0.5952 - accuracy: 0.6775 - val_loss: 0.6524 - val_accuracy: 0.6270 - 16s/epoch - 161ms/step\n",
      "Epoch 9/20\n",
      "100/100 - 16s - loss: 0.5911 - accuracy: 0.6835 - val_loss: 0.5696 - val_accuracy: 0.6930 - 16s/epoch - 162ms/step\n",
      "Epoch 10/20\n",
      "100/100 - 16s - loss: 0.5773 - accuracy: 0.7000 - val_loss: 0.5999 - val_accuracy: 0.6750 - 16s/epoch - 161ms/step\n",
      "Epoch 11/20\n",
      "100/100 - 16s - loss: 0.5832 - accuracy: 0.6920 - val_loss: 0.5494 - val_accuracy: 0.7050 - 16s/epoch - 162ms/step\n",
      "Epoch 12/20\n",
      "100/100 - 16s - loss: 0.5801 - accuracy: 0.6860 - val_loss: 0.5411 - val_accuracy: 0.7140 - 16s/epoch - 163ms/step\n",
      "Epoch 13/20\n",
      "100/100 - 16s - loss: 0.5728 - accuracy: 0.7075 - val_loss: 0.5692 - val_accuracy: 0.6830 - 16s/epoch - 162ms/step\n",
      "Epoch 14/20\n",
      "100/100 - 16s - loss: 0.5609 - accuracy: 0.7110 - val_loss: 0.5326 - val_accuracy: 0.7210 - 16s/epoch - 160ms/step\n",
      "Epoch 15/20\n",
      "100/100 - 16s - loss: 0.5569 - accuracy: 0.7185 - val_loss: 0.5692 - val_accuracy: 0.7070 - 16s/epoch - 162ms/step\n",
      "Epoch 16/20\n",
      "100/100 - 16s - loss: 0.5535 - accuracy: 0.7105 - val_loss: 0.5653 - val_accuracy: 0.6990 - 16s/epoch - 162ms/step\n",
      "Epoch 17/20\n",
      "100/100 - 16s - loss: 0.5419 - accuracy: 0.7230 - val_loss: 0.5941 - val_accuracy: 0.7000 - 16s/epoch - 162ms/step\n",
      "Epoch 18/20\n",
      "100/100 - 16s - loss: 0.5439 - accuracy: 0.7090 - val_loss: 0.5408 - val_accuracy: 0.7160 - 16s/epoch - 160ms/step\n",
      "Epoch 19/20\n",
      "100/100 - 16s - loss: 0.5378 - accuracy: 0.7255 - val_loss: 0.5433 - val_accuracy: 0.7220 - 16s/epoch - 163ms/step\n",
      "Epoch 20/20\n",
      "100/100 - 16s - loss: 0.5400 - accuracy: 0.7295 - val_loss: 0.5052 - val_accuracy: 0.7340 - 16s/epoch - 162ms/step\n"
     ]
    }
   ],
   "source": [
    "# Create new model\n",
    "model_for_aug = create_model()\n",
    "\n",
    "# This code has changed. Now instead of the ImageGenerator just rescaling\n",
    "# the image, we also rotate and do other operations\n",
    "train_datagen = ImageDataGenerator(\n",
    "      rescale=1./255,\n",
    "      rotation_range=40,\n",
    "      width_shift_range=0.2,\n",
    "      height_shift_range=0.2,\n",
    "      shear_range=0.2,\n",
    "      zoom_range=0.2,\n",
    "      horizontal_flip=True,\n",
    "      fill_mode='nearest')\n",
    "\n",
    "test_datagen = ImageDataGenerator(rescale=1./255)\n",
    "\n",
    "# Flow training images in batches of 20 using train_datagen generator\n",
    "train_generator = train_datagen.flow_from_directory(\n",
    "        train_dir,  # This is the source directory for training images\n",
    "        target_size=(150, 150),  # All images will be resized to 150x150\n",
    "        batch_size=20,\n",
    "        # Since we use binary_crossentropy loss, we need binary labels\n",
    "        class_mode='binary')\n",
    "\n",
    "# Flow validation images in batches of 20 using test_datagen generator\n",
    "validation_generator = test_datagen.flow_from_directory(\n",
    "        validation_dir,\n",
    "        target_size=(150, 150),\n",
    "        batch_size=20,\n",
    "        class_mode='binary')\n",
    "\n",
    "# Train the new model\n",
    "history_with_aug = model_for_aug.fit(\n",
    "      train_generator,\n",
    "      steps_per_epoch=100,  # 2000 images = batch_size * steps\n",
    "      epochs=EPOCHS,\n",
    "      validation_data=validation_generator,\n",
    "      validation_steps=50,  # 1000 images = batch_size * steps\n",
    "      verbose=2)"
   ]
  },
  {
   "cell_type": "code",
   "execution_count": 9,
   "metadata": {
    "colab": {
     "base_uri": "https://localhost:8080/",
     "height": 545
    },
    "id": "bnyRnwopT5aW",
    "outputId": "6942c46e-beca-4da1-fcaa-5d8646f44bac"
   },
   "outputs": [
    {
     "data": {
      "image/png": "[encoded data removed]",
      "text/plain": [
       "<Figure size 432x288 with 1 Axes>"
      ]
     },
     "metadata": {
      "needs_background": "light"
     },
     "output_type": "display_data"
    },
    {
     "data": {
      "image/png": "[encoded data removed]",
      "text/plain": [
       "<Figure size 432x288 with 1 Axes>"
      ]
     },
     "metadata": {
      "needs_background": "light"
     },
     "output_type": "display_data"
    }
   ],
   "source": [
    "# Plot the results of training with data augmentation\n",
    "plot_loss_acc(history_with_aug)"
   ]
  },
  {
   "cell_type": "markdown",
   "metadata": {
    "id": "1D1hd5fqmJUx"
   },
   "source": [
    "As you can see, the training accuracy has gone down compared to the baseline. This is expected because (as a result of data augmentation) there are more variety in the images so the model will need more runs to learn from them. The good thing is the validation accuracy is no longer stalling and is more in line with the training results. This means that the model is now performing better on unseen data. \n",
    "\n",
    "\n"
   ]
  },
  {
   "cell_type": "markdown",
   "metadata": {
    "id": "z4B9b6GPnKg1"
   },
   "source": [
    "## Wrap Up\n",
    "\n",
    "This exercise showed a simple trick to avoid overfitting. You can improve your baseline results by simply tweaking the same images you have already. The `ImageDataGenerator` class has built-in parameters to do just that. Try to modify the values some more in the `train_datagen` and see what results you get.\n",
    "\n",
    "Take note that this will not work for all cases. In the next lesson, Laurence will show a scenario where data augmentation will not help improve your validation accuracy."
   ]
  }
 ],
 "metadata": {
  "accelerator": "GPU",
  "colab": {
   "collapsed_sections": [],
   "name": " C2_W2_Lab_1_cats_v_dogs_augmentation.ipynb",
   "provenance": []
  },
  "kernelspec": {
   "display_name": "Python 3",
   "language": "python",
   "name": "python3"
  },
  "language_info": {
   "codemirror_mode": {
    "name": "ipython",
    "version": 3
   },
   "file_extension": ".py",
   "mimetype": "text/x-python",
   "name": "python",
   "nbconvert_exporter": "python",
   "pygments_lexer": "ipython3",
   "version": "3.8.8"
  }
 },
 "nbformat": 4,
 "nbformat_minor": 1
}
